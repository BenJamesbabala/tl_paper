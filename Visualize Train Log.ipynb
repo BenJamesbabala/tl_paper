{
 "cells": [
  {
   "cell_type": "code",
   "execution_count": 1,
   "metadata": {
    "collapsed": false
   },
   "outputs": [],
   "source": [
    "%load_ext autoreload\n",
    "%autoreload 2\n",
    "%matplotlib inline\n",
    "\n",
    "import pandas as pd\n",
    "import pymongo\n",
    "from tensorlayer.db import TensorDB\n",
    "\n",
    "import matplotlib.pyplot as plt"
   ]
  },
  {
   "cell_type": "code",
   "execution_count": 2,
   "metadata": {
    "collapsed": false
   },
   "outputs": [
    {
     "name": "stdout",
     "output_type": "stream",
     "text": [
      "[TensorDB] Connect SUCCESS 146.169.33.34:27020 TransferGan akara\n"
     ]
    }
   ],
   "source": [
    "db = TensorDB(ip='146.169.33.34', port=27020, db_name='TransferGan', user_name='akara', password='DSIGPUfour', studyID=\"MNIST\")"
   ]
  },
  {
   "cell_type": "code",
   "execution_count": 3,
   "metadata": {
    "collapsed": false
   },
   "outputs": [],
   "source": [
    "train_log_df = pd.DataFrame(list(db.db.TrainLog.find({'studyID': 'MNIST'}).sort('time', 1).limit(50000)))"
   ]
  },
  {
   "cell_type": "code",
   "execution_count": 4,
   "metadata": {
    "collapsed": false
   },
   "outputs": [
    {
     "data": {
      "text/html": [
       "<div>\n",
       "<table border=\"1\" class=\"dataframe\">\n",
       "  <thead>\n",
       "    <tr style=\"text-align: right;\">\n",
       "      <th></th>\n",
       "      <th>_id</th>\n",
       "      <th>acc</th>\n",
       "      <th>loss</th>\n",
       "      <th>studyID</th>\n",
       "      <th>time</th>\n",
       "    </tr>\n",
       "  </thead>\n",
       "  <tbody>\n",
       "    <tr>\n",
       "      <th>0</th>\n",
       "      <td>58dd3c79c0f5f43aa1dc468f</td>\n",
       "      <td>0.895473</td>\n",
       "      <td>0.377797</td>\n",
       "      <td>MNIST</td>\n",
       "      <td>2017-03-30 17:12:25.516</td>\n",
       "    </tr>\n",
       "    <tr>\n",
       "      <th>1</th>\n",
       "      <td>58dd3c86c0f5f43aa1dc4691</td>\n",
       "      <td>0.974099</td>\n",
       "      <td>0.085424</td>\n",
       "      <td>MNIST</td>\n",
       "      <td>2017-03-30 17:12:38.821</td>\n",
       "    </tr>\n",
       "    <tr>\n",
       "      <th>2</th>\n",
       "      <td>58dd3c94c0f5f43b0037c834</td>\n",
       "      <td>0.932432</td>\n",
       "      <td>0.245418</td>\n",
       "      <td>MNIST</td>\n",
       "      <td>2017-03-30 17:12:52.963</td>\n",
       "    </tr>\n",
       "    <tr>\n",
       "      <th>3</th>\n",
       "      <td>58dd3ca7c0f5f43b0037c836</td>\n",
       "      <td>0.985317</td>\n",
       "      <td>0.048812</td>\n",
       "      <td>MNIST</td>\n",
       "      <td>2017-03-30 17:13:11.914</td>\n",
       "    </tr>\n",
       "    <tr>\n",
       "      <th>4</th>\n",
       "      <td>58dd3cb2c0f5f43b5baadf3f</td>\n",
       "      <td>0.927905</td>\n",
       "      <td>0.261257</td>\n",
       "      <td>MNIST</td>\n",
       "      <td>2017-03-30 17:13:22.514</td>\n",
       "    </tr>\n",
       "    <tr>\n",
       "      <th>5</th>\n",
       "      <td>58dd3cc5c0f5f43b5baadf41</td>\n",
       "      <td>0.984675</td>\n",
       "      <td>0.050359</td>\n",
       "      <td>MNIST</td>\n",
       "      <td>2017-03-30 17:13:41.358</td>\n",
       "    </tr>\n",
       "    <tr>\n",
       "      <th>6</th>\n",
       "      <td>58dd3ccec0f5f43bb68f1576</td>\n",
       "      <td>0.895400</td>\n",
       "      <td>0.386966</td>\n",
       "      <td>MNIST</td>\n",
       "      <td>2017-03-30 17:13:50.452</td>\n",
       "    </tr>\n",
       "    <tr>\n",
       "      <th>7</th>\n",
       "      <td>58dd3cd0c0f5f43bb68f1578</td>\n",
       "      <td>0.819280</td>\n",
       "      <td>0.541373</td>\n",
       "      <td>MNIST</td>\n",
       "      <td>2017-03-30 17:13:52.765</td>\n",
       "    </tr>\n",
       "    <tr>\n",
       "      <th>8</th>\n",
       "      <td>58dd3cd3c0f5f43bb68f157a</td>\n",
       "      <td>0.841700</td>\n",
       "      <td>0.514738</td>\n",
       "      <td>MNIST</td>\n",
       "      <td>2017-03-30 17:13:55.761</td>\n",
       "    </tr>\n",
       "    <tr>\n",
       "      <th>9</th>\n",
       "      <td>58dd3ce5c0f5f43c0df81dab</td>\n",
       "      <td>0.894380</td>\n",
       "      <td>0.346127</td>\n",
       "      <td>MNIST</td>\n",
       "      <td>2017-03-30 17:14:13.392</td>\n",
       "    </tr>\n",
       "    <tr>\n",
       "      <th>10</th>\n",
       "      <td>58dd3ce8c0f5f43c0df81dad</td>\n",
       "      <td>0.950920</td>\n",
       "      <td>0.166155</td>\n",
       "      <td>MNIST</td>\n",
       "      <td>2017-03-30 17:14:16.689</td>\n",
       "    </tr>\n",
       "    <tr>\n",
       "      <th>11</th>\n",
       "      <td>58dd3cecc0f5f43c0df81daf</td>\n",
       "      <td>0.969780</td>\n",
       "      <td>0.102677</td>\n",
       "      <td>MNIST</td>\n",
       "      <td>2017-03-30 17:14:20.648</td>\n",
       "    </tr>\n",
       "  </tbody>\n",
       "</table>\n",
       "</div>"
      ],
      "text/plain": [
       "                         _id       acc      loss studyID  \\\n",
       "0   58dd3c79c0f5f43aa1dc468f  0.895473  0.377797   MNIST   \n",
       "1   58dd3c86c0f5f43aa1dc4691  0.974099  0.085424   MNIST   \n",
       "2   58dd3c94c0f5f43b0037c834  0.932432  0.245418   MNIST   \n",
       "3   58dd3ca7c0f5f43b0037c836  0.985317  0.048812   MNIST   \n",
       "4   58dd3cb2c0f5f43b5baadf3f  0.927905  0.261257   MNIST   \n",
       "5   58dd3cc5c0f5f43b5baadf41  0.984675  0.050359   MNIST   \n",
       "6   58dd3ccec0f5f43bb68f1576  0.895400  0.386966   MNIST   \n",
       "7   58dd3cd0c0f5f43bb68f1578  0.819280  0.541373   MNIST   \n",
       "8   58dd3cd3c0f5f43bb68f157a  0.841700  0.514738   MNIST   \n",
       "9   58dd3ce5c0f5f43c0df81dab  0.894380  0.346127   MNIST   \n",
       "10  58dd3ce8c0f5f43c0df81dad  0.950920  0.166155   MNIST   \n",
       "11  58dd3cecc0f5f43c0df81daf  0.969780  0.102677   MNIST   \n",
       "\n",
       "                      time  \n",
       "0  2017-03-30 17:12:25.516  \n",
       "1  2017-03-30 17:12:38.821  \n",
       "2  2017-03-30 17:12:52.963  \n",
       "3  2017-03-30 17:13:11.914  \n",
       "4  2017-03-30 17:13:22.514  \n",
       "5  2017-03-30 17:13:41.358  \n",
       "6  2017-03-30 17:13:50.452  \n",
       "7  2017-03-30 17:13:52.765  \n",
       "8  2017-03-30 17:13:55.761  \n",
       "9  2017-03-30 17:14:13.392  \n",
       "10 2017-03-30 17:14:16.689  \n",
       "11 2017-03-30 17:14:20.648  "
      ]
     },
     "execution_count": 4,
     "metadata": {},
     "output_type": "execute_result"
    }
   ],
   "source": [
    "train_log_df"
   ]
  },
  {
   "cell_type": "code",
   "execution_count": 5,
   "metadata": {
    "collapsed": false
   },
   "outputs": [
    {
     "data": {
      "image/png": "[encoded data removed]",
      "text/plain": [
       "<matplotlib.figure.Figure at 0x7f7cc0bede10>"
      ]
     },
     "metadata": {},
     "output_type": "display_data"
    }
   ],
   "source": [
    "plt.plot(train_log_df['loss'], label='loss')\n",
    "plt.plot(train_log_df['acc'], label='acc')\n",
    "plt.legend()\n",
    "plt.show()"
   ]
  },
  {
   "cell_type": "code",
   "execution_count": null,
   "metadata": {
    "collapsed": true
   },
   "outputs": [],
   "source": []
  }
 ],
 "metadata": {
  "kernelspec": {
   "display_name": "Python 2",
   "language": "python",
   "name": "python2"
  },
  "language_info": {
   "codemirror_mode": {
    "name": "ipython",
    "version": 2
   },
   "file_extension": ".py",
   "mimetype": "text/x-python",
   "name": "python",
   "nbconvert_exporter": "python",
   "pygments_lexer": "ipython2",
   "version": "2.7.13"
  }
 },
 "nbformat": 4,
 "nbformat_minor": 2
}
