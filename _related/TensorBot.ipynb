{
 "cells": [
  {
   "cell_type": "code",
   "execution_count": 1,
   "metadata": {
    "collapsed": false
   },
   "outputs": [
    {
     "name": "stdout",
     "output_type": "stream",
     "text": [
      "█\r"
     ]
    }
   ],
   "source": [
    "import numpy as np\n",
    "import pymongo\n",
    "import gridfs\n",
    "import pickle\n",
    "from pymongo import MongoClient\n",
    "from lz4.frame import compress,decompress\n",
    "import tensorlayer as  tl\n",
    "import time\n",
    "import odo\n",
    "\n",
    "import pandas as pd\n",
    "import bokeh as bk\n",
    "\n",
    "\n",
    "import matplotlib\n",
    "import numpy as np\n",
    "import matplotlib.pyplot as plt\n",
    "%matplotlib inline  \n",
    "\n",
    "\n",
    "\n",
    "import itchat"
   ]
  },
  {
   "cell_type": "code",
   "execution_count": 2,
   "metadata": {
    "collapsed": false
   },
   "outputs": [],
   "source": [
    "import pandas as pd\n",
    "\n",
    "\n",
    "\n",
    "client=MongoClient('localhost',27018)\n",
    "db=client.KneeLocalizeTrainning\n",
    "\n",
    "\n",
    "df=pd.DataFrame(list(db.ValidLog.find({}).sort('time',1).limit(100)))\n",
    "\n",
    "\n",
    "@itchat.msg_register(itchat.content.TEXT)\n",
    "def text_reply(msg):\n",
    "    cmd=msg.text\n",
    "    if cmd==\"val\":\n",
    "        df=pd.DataFrame(list(db.ValidLog.find({}).sort('time',-1).limit(10)))\n",
    "        ac=df[['acc','time']]\n",
    "        header='my name is tensorBot:\\nHere is the last ten val log \\n'\n",
    "        return header+ac.to_string(index=False)\n",
    "    \n",
    "    if cmd==\"train\":\n",
    "        df=pd.DataFrame(list(db.TrainLog.find({}).sort('time',-1).limit(10)))\n",
    "        ac=df[['acc','time']]\n",
    "        \n",
    "        header='my name is tensorBot:\\nHere is the last ten training log\\n'\n",
    "        return header+ac.to_string(index=False,formatters={'time':lambda x:strftime(x,'%X%d%m%y')})\n",
    "    \n",
    "    if cmd==\"trainPlot\":\n",
    "        df=pd.DataFrame(list(db.TrainLog.find({}).sort('time',-1).limit(500)))\n",
    "        ac=df[['acc']]\n",
    "        \n",
    "        plt.clf()\n",
    "        plt.plot(ac[::-1])\n",
    "        plt.savefig('mytrain.png')\n",
    "        \n",
    "    \n",
    "        itchat.send('@img@mytrain.png', msg['FromUserName']) \n",
    "        return \"This is the Training Plot\"\n",
    "    \n",
    "    if cmd==\"valPlot\":\n",
    "        \n",
    "        df=pd.DataFrame(list(db.ValidLog.find({}).sort('time',-1).limit(500)))\n",
    "        ac=df[['acc']]\n",
    "        \n",
    "        plt.clf()\n",
    "        plt.plot(ac[::-1])\n",
    "        plt.savefig('myval.png')\n",
    "        \n",
    "    \n",
    "        itchat.send('@img@myval.png', msg['FromUserName']) \n",
    "        return \"This is the valid Plot\"\n",
    "   "
   ]
  },
  {
   "cell_type": "code",
   "execution_count": 3,
   "metadata": {
    "collapsed": false
   },
   "outputs": [
    {
     "ename": "KeyError",
     "evalue": "'url'",
     "output_type": "error",
     "traceback": [
      "\u001b[1;31m---------------------------------------------------------------------------\u001b[0m",
      "\u001b[1;31mKeyError\u001b[0m                                  Traceback (most recent call last)",
      "\u001b[1;32m<ipython-input-3-99e41c97f3fc>\u001b[0m in \u001b[0;36m<module>\u001b[1;34m()\u001b[0m\n\u001b[0;32m     12\u001b[0m \u001b[1;33m\u001b[0m\u001b[0m\n\u001b[0;32m     13\u001b[0m \u001b[1;33m\u001b[0m\u001b[0m\n\u001b[1;32m---> 14\u001b[1;33m \u001b[0mitchat\u001b[0m\u001b[1;33m.\u001b[0m\u001b[0msend\u001b[0m\u001b[1;33m(\u001b[0m\u001b[0mac\u001b[0m\u001b[1;33m.\u001b[0m\u001b[0mto_string\u001b[0m\u001b[1;33m(\u001b[0m\u001b[1;33m)\u001b[0m\u001b[1;33m,\u001b[0m\u001b[0mtoUserName\u001b[0m\u001b[1;33m=\u001b[0m\u001b[1;34m\"filehelper\"\u001b[0m\u001b[1;33m)\u001b[0m\u001b[1;33m\u001b[0m\u001b[0m\n\u001b[0m",
      "\u001b[1;32m/home/fliu/anaconda2/lib/python2.7/site-packages/itchat/components/messages.pyc\u001b[0m in \u001b[0;36msend\u001b[1;34m(self, msg, toUserName, mediaId)\u001b[0m\n\u001b[0;32m    505\u001b[0m             \u001b[0mr\u001b[0m \u001b[1;33m=\u001b[0m \u001b[0mself\u001b[0m\u001b[1;33m.\u001b[0m\u001b[0msend_video\u001b[0m\u001b[1;33m(\u001b[0m\u001b[0mmsg\u001b[0m\u001b[1;33m[\u001b[0m\u001b[1;36m5\u001b[0m\u001b[1;33m:\u001b[0m\u001b[1;33m]\u001b[0m\u001b[1;33m,\u001b[0m \u001b[0mtoUserName\u001b[0m\u001b[1;33m,\u001b[0m \u001b[0mmediaId\u001b[0m\u001b[1;33m)\u001b[0m\u001b[1;33m\u001b[0m\u001b[0m\n\u001b[0;32m    506\u001b[0m     \u001b[1;32melse\u001b[0m\u001b[1;33m:\u001b[0m\u001b[1;33m\u001b[0m\u001b[0m\n\u001b[1;32m--> 507\u001b[1;33m         \u001b[0mr\u001b[0m \u001b[1;33m=\u001b[0m \u001b[0mself\u001b[0m\u001b[1;33m.\u001b[0m\u001b[0msend_msg\u001b[0m\u001b[1;33m(\u001b[0m\u001b[0mmsg\u001b[0m\u001b[1;33m,\u001b[0m \u001b[0mtoUserName\u001b[0m\u001b[1;33m)\u001b[0m\u001b[1;33m\u001b[0m\u001b[0m\n\u001b[0m\u001b[0;32m    508\u001b[0m     \u001b[1;32mreturn\u001b[0m \u001b[0mr\u001b[0m\u001b[1;33m\u001b[0m\u001b[0m\n",
      "\u001b[1;32m/home/fliu/anaconda2/lib/python2.7/site-packages/itchat/components/messages.pyc\u001b[0m in \u001b[0;36msend_msg\u001b[1;34m(self, msg, toUserName)\u001b[0m\n\u001b[0;32m    276\u001b[0m \u001b[1;32mdef\u001b[0m \u001b[0msend_msg\u001b[0m\u001b[1;33m(\u001b[0m\u001b[0mself\u001b[0m\u001b[1;33m,\u001b[0m \u001b[0mmsg\u001b[0m\u001b[1;33m=\u001b[0m\u001b[1;34m'Test Message'\u001b[0m\u001b[1;33m,\u001b[0m \u001b[0mtoUserName\u001b[0m\u001b[1;33m=\u001b[0m\u001b[0mNone\u001b[0m\u001b[1;33m)\u001b[0m\u001b[1;33m:\u001b[0m\u001b[1;33m\u001b[0m\u001b[0m\n\u001b[0;32m    277\u001b[0m     \u001b[0mlogger\u001b[0m\u001b[1;33m.\u001b[0m\u001b[0mdebug\u001b[0m\u001b[1;33m(\u001b[0m\u001b[1;34m'Request to send a text message to %s: %s'\u001b[0m \u001b[1;33m%\u001b[0m \u001b[1;33m(\u001b[0m\u001b[0mtoUserName\u001b[0m\u001b[1;33m,\u001b[0m \u001b[0mmsg\u001b[0m\u001b[1;33m)\u001b[0m\u001b[1;33m)\u001b[0m\u001b[1;33m\u001b[0m\u001b[0m\n\u001b[1;32m--> 278\u001b[1;33m     \u001b[0mr\u001b[0m \u001b[1;33m=\u001b[0m \u001b[0mself\u001b[0m\u001b[1;33m.\u001b[0m\u001b[0msend_raw_msg\u001b[0m\u001b[1;33m(\u001b[0m\u001b[1;36m1\u001b[0m\u001b[1;33m,\u001b[0m \u001b[0mmsg\u001b[0m\u001b[1;33m,\u001b[0m \u001b[0mtoUserName\u001b[0m\u001b[1;33m)\u001b[0m\u001b[1;33m\u001b[0m\u001b[0m\n\u001b[0m\u001b[0;32m    279\u001b[0m     \u001b[1;32mreturn\u001b[0m \u001b[0mr\u001b[0m\u001b[1;33m\u001b[0m\u001b[0m\n\u001b[0;32m    280\u001b[0m \u001b[1;33m\u001b[0m\u001b[0m\n",
      "\u001b[1;32m/home/fliu/anaconda2/lib/python2.7/site-packages/itchat/components/messages.pyc\u001b[0m in \u001b[0;36msend_raw_msg\u001b[1;34m(self, msgType, content, toUserName)\u001b[0m\n\u001b[0;32m    257\u001b[0m \u001b[1;33m\u001b[0m\u001b[0m\n\u001b[0;32m    258\u001b[0m \u001b[1;32mdef\u001b[0m \u001b[0msend_raw_msg\u001b[0m\u001b[1;33m(\u001b[0m\u001b[0mself\u001b[0m\u001b[1;33m,\u001b[0m \u001b[0mmsgType\u001b[0m\u001b[1;33m,\u001b[0m \u001b[0mcontent\u001b[0m\u001b[1;33m,\u001b[0m \u001b[0mtoUserName\u001b[0m\u001b[1;33m)\u001b[0m\u001b[1;33m:\u001b[0m\u001b[1;33m\u001b[0m\u001b[0m\n\u001b[1;32m--> 259\u001b[1;33m     \u001b[0murl\u001b[0m \u001b[1;33m=\u001b[0m \u001b[1;34m'%s/webwxsendmsg'\u001b[0m \u001b[1;33m%\u001b[0m \u001b[0mself\u001b[0m\u001b[1;33m.\u001b[0m\u001b[0mloginInfo\u001b[0m\u001b[1;33m[\u001b[0m\u001b[1;34m'url'\u001b[0m\u001b[1;33m]\u001b[0m\u001b[1;33m\u001b[0m\u001b[0m\n\u001b[0m\u001b[0;32m    260\u001b[0m     data = {\n\u001b[0;32m    261\u001b[0m         \u001b[1;34m'BaseRequest'\u001b[0m\u001b[1;33m:\u001b[0m \u001b[0mself\u001b[0m\u001b[1;33m.\u001b[0m\u001b[0mloginInfo\u001b[0m\u001b[1;33m[\u001b[0m\u001b[1;34m'BaseRequest'\u001b[0m\u001b[1;33m]\u001b[0m\u001b[1;33m,\u001b[0m\u001b[1;33m\u001b[0m\u001b[0m\n",
      "\u001b[1;31mKeyError\u001b[0m: 'url'"
     ]
    }
   ],
   "source": [
    "import pandas as pd\n",
    "\n",
    "\n",
    "\n",
    "client=MongoClient('localhost',27018)\n",
    "db=client.KneeLocalizeTrainning\n",
    "\n",
    "\n",
    "df=pd.DataFrame(list(db.ValidLog.find({}).sort('time',-1).limit(10)))\n",
    "ac=df[['acc','time']]\n",
    "#\n",
    "\n",
    " \n",
    "itchat.send(ac.to_string(),toUserName=\"filehelper\")"
   ]
  },
  {
   "cell_type": "code",
   "execution_count": null,
   "metadata": {
    "collapsed": false
   },
   "outputs": [],
   "source": [
    "itchat.auto_login(hotReload=True)\n",
    "itchat.run()\n"
   ]
  },
  {
   "cell_type": "code",
   "execution_count": 39,
   "metadata": {
    "collapsed": false
   },
   "outputs": [],
   "source": []
  }
 ],
 "metadata": {
  "kernelspec": {
   "display_name": "Python [Root]",
   "language": "python",
   "name": "Python [Root]"
  },
  "language_info": {
   "codemirror_mode": {
    "name": "ipython",
    "version": 2
   },
   "file_extension": ".py",
   "mimetype": "text/x-python",
   "name": "python",
   "nbconvert_exporter": "python",
   "pygments_lexer": "ipython2",
   "version": "2.7.12"
  }
 },
 "nbformat": 4,
 "nbformat_minor": 0
}
